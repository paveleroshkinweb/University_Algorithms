{
 "cells": [
  {
   "cell_type": "markdown",
   "metadata": {},
   "source": [
    "## Описание проекта \n",
    "\n",
    "Вы аналитик компании «Мегалайн» — федерального оператора сотовой связи. Клиентам предлагают два тарифных плана: «Смарт» и «Ультра». Чтобы скорректировать рекламный бюджет, коммерческий департамент хочет понять, какой тариф приносит больше денег.\n",
    "Вам предстоит сделать предварительный анализ тарифов на небольшой выборке клиентов. В вашем распоряжении данные 500 пользователей «Мегалайна»: кто они, откуда, каким тарифом пользуются, сколько звонков и сообщений каждый отправил за 2018 год. Нужно проанализировать поведение клиентов и сделать вывод — какой тариф лучше."
   ]
  },
  {
   "cell_type": "markdown",
   "metadata": {},
   "source": [
    "### Импортируем необходимые библиотеки"
   ]
  },
  {
   "cell_type": "code",
   "execution_count": 19,
   "metadata": {},
   "outputs": [],
   "source": [
    "import pandas as pd\n",
    "import numpy as np\n",
    "import matplotlib.pyplot as plt\n",
    "from functools import reduce\n",
    "from scipy import stats as st"
   ]
  },
  {
   "cell_type": "markdown",
   "metadata": {},
   "source": [
    "### Сохраним все таблицы в объекте data"
   ]
  },
  {
   "cell_type": "code",
   "execution_count": 20,
   "metadata": {},
   "outputs": [],
   "source": [
    "table_names = ['calls', 'internet', 'messages', 'tariffs', 'users']\n",
    "\n",
    "def get_column(acc, name):\n",
    "    acc[name] = pd.read_csv(f'/datasets/{name}.csv')\n",
    "    return acc\n",
    "    \n",
    "data = reduce(get_column, table_names, {})"
   ]
  },
  {
   "cell_type": "markdown",
   "metadata": {},
   "source": [
    "### Приведем нужные столбцы к типу данных datetime"
   ]
  },
  {
   "cell_type": "code",
   "execution_count": 21,
   "metadata": {},
   "outputs": [],
   "source": [
    "fields_to_datetime = ['calls.call_date', 'internet.session_date', 'messages.message_date', 'users.reg_date', 'users.churn_date']\n",
    "\n",
    "for field in fields_to_datetime:\n",
    "    table, column = field.split('.')\n",
    "    data[table][column] = pd.to_datetime(data[table][column])"
   ]
  },
  {
   "cell_type": "markdown",
   "metadata": {},
   "source": [
    "### Удалим странный столбец 'Unnamed: 0' из таблицы internet"
   ]
  },
  {
   "cell_type": "code",
   "execution_count": 22,
   "metadata": {},
   "outputs": [],
   "source": [
    "data['internet'].drop('Unnamed: 0', axis=1, inplace=True)"
   ]
  },
  {
   "cell_type": "markdown",
   "metadata": {},
   "source": [
    "### Удалим дубликаты из всех таблиц, если они имеются"
   ]
  },
  {
   "cell_type": "code",
   "execution_count": 23,
   "metadata": {},
   "outputs": [],
   "source": [
    "for table in data:\n",
    "    data[table] = data[table].drop_duplicates().reset_index(drop=True)"
   ]
  },
  {
   "cell_type": "markdown",
   "metadata": {},
   "source": [
    "### Зададим индексирование тарифов по имени, что бы к ним было удобнее обращаться"
   ]
  },
  {
   "cell_type": "code",
   "execution_count": 24,
   "metadata": {},
   "outputs": [],
   "source": [
    "data['tariffs'].set_index('tariff_name', inplace=True)"
   ]
  },
  {
   "cell_type": "markdown",
   "metadata": {},
   "source": [
    "### Проверим какие таблицы содержат пропущенные данные"
   ]
  },
  {
   "cell_type": "code",
   "execution_count": 25,
   "metadata": {},
   "outputs": [
    {
     "name": "stdout",
     "output_type": "stream",
     "text": [
      "calls \n",
      " Index([], dtype='object')\n",
      "internet \n",
      " Index([], dtype='object')\n",
      "messages \n",
      " Index([], dtype='object')\n",
      "tariffs \n",
      " Index([], dtype='object')\n",
      "users \n",
      " Index(['churn_date'], dtype='object')\n"
     ]
    }
   ],
   "source": [
    "for table in data:\n",
    "    print(table, '\\n', data[table].columns[data[table].isna().any()])"
   ]
  },
  {
   "cell_type": "markdown",
   "metadata": {},
   "source": [
    "### Только таблица users содержит пропущенные данные в столбце churn_date, это значит, что тариф ещё действовал на момент выгрузки данных, так что оставим их как есть."
   ]
  },
  {
   "cell_type": "markdown",
   "metadata": {},
   "source": [
    "### Исследуем метрики продолжительность звонка и используемый траффик на выбросы"
   ]
  },
  {
   "cell_type": "code",
   "execution_count": 26,
   "metadata": {},
   "outputs": [
    {
     "data": {
      "image/png": "[encoded data removed]",
      "text/plain": [
       "<Figure size 432x288 with 1 Axes>"
      ]
     },
     "metadata": {
      "needs_background": "light"
     },
     "output_type": "display_data"
    },
    {
     "data": {
      "image/png": "[encoded data removed]",
      "text/plain": [
       "<Figure size 432x288 with 1 Axes>"
      ]
     },
     "metadata": {
      "needs_background": "light"
     },
     "output_type": "display_data"
    }
   ],
   "source": [
    "columns_to_check = {\n",
    "    'calls': 'duration',\n",
    "    'internet': 'mb_used'\n",
    "}\n",
    "\n",
    "for table, column in columns_to_check.items():\n",
    "    plt.figure()\n",
    "    data[table].boxplot(column=column)"
   ]
  },
  {
   "cell_type": "markdown",
   "metadata": {},
   "source": [
    "### Проверим какой процент составляют выбросы"
   ]
  },
  {
   "cell_type": "code",
   "execution_count": 27,
   "metadata": {},
   "outputs": [
    {
     "data": {
      "text/plain": [
       "(0.0033463799375144983, 0.0033066481030281933)"
      ]
     },
     "execution_count": 27,
     "metadata": {},
     "output_type": "execute_result"
    }
   ],
   "source": [
    "extra_duration_percent = len(data['calls'].query('duration > 25')) / len(data['calls'])\n",
    "extra_mb_used_percent = len(data['internet'].query('mb_used > 1200')) / len(data['internet'])\n",
    "extra_duration_percent, extra_mb_used_percent"
   ]
  },
  {
   "cell_type": "markdown",
   "metadata": {},
   "source": [
    "### Так как процент выбросов маленький, то мы можем просто удалить эти данные без потери основного содержимого"
   ]
  },
  {
   "cell_type": "code",
   "execution_count": 28,
   "metadata": {},
   "outputs": [],
   "source": [
    "data['calls'] = data['calls'].query('duration < 25')\n",
    "data['internet'] = data['internet'].query('mb_used < 1200')"
   ]
  },
  {
   "cell_type": "markdown",
   "metadata": {},
   "source": [
    "### Округлим все значения столбца duration в таблице calls вверх."
   ]
  },
  {
   "cell_type": "code",
   "execution_count": 29,
   "metadata": {},
   "outputs": [],
   "source": [
    "def round(duration):\n",
    "    if duration == 0:\n",
    "        return 1\n",
    "    return np.ceil(duration)\n",
    "\n",
    "data['calls']['duration'] = data['calls']['duration'].apply(round).astype(int)"
   ]
  },
  {
   "cell_type": "markdown",
   "metadata": {},
   "source": [
    "### Добавим столбец month для таблиц calls, messages, internet "
   ]
  },
  {
   "cell_type": "code",
   "execution_count": 30,
   "metadata": {},
   "outputs": [],
   "source": [
    "def add_month(table, column):\n",
    "    return data[table][column].dt.month\n",
    "\n",
    "for table, column in [('calls', 'call_date'), ('messages', 'message_date'), ('internet', 'session_date')]:\n",
    "    data[table]['month'] = add_month(table, column)"
   ]
  },
  {
   "cell_type": "markdown",
   "metadata": {},
   "source": [
    "### Посчитаем для каждого пользователя:\n",
    "- количество сделанных звонков и израсходованных минут разговора по месяцам\n",
    "- количество отправленных сообщений по месяцам\n",
    "- объем израсходованного интернет-трафика по месяцам\n",
    "- помесячную выручку с каждого пользователя"
   ]
  },
  {
   "cell_type": "code",
   "execution_count": 31,
   "metadata": {
    "scrolled": true
   },
   "outputs": [],
   "source": [
    "data_by_monthes = {}\n",
    "\n",
    "pivot_table_params = [\n",
    "    ('calls', 'duration', ['count', 'sum'], ['total_calls', 'calls_duration']), \n",
    "    ('messages', 'id', 'count', ['total_messages']),\n",
    "    ('internet', 'mb_used', 'sum', ['total_traffic'])\n",
    "]\n",
    "     \n",
    "for table, values, aggfunc, columns in pivot_table_params:\n",
    "    data_by_monthes[table] = data[table].pivot_table(index=['user_id', 'month'], values=values, aggfunc=aggfunc)\n",
    "    data_by_monthes[table].columns = columns\n",
    "    data_by_monthes[table].reset_index(inplace=True)"
   ]
  },
  {
   "cell_type": "code",
   "execution_count": 32,
   "metadata": {
    "scrolled": true
   },
   "outputs": [
    {
     "data": {
      "text/html": [
       "<div>\n",
       "<style scoped>\n",
       "    .dataframe tbody tr th:only-of-type {\n",
       "        vertical-align: middle;\n",
       "    }\n",
       "\n",
       "    .dataframe tbody tr th {\n",
       "        vertical-align: top;\n",
       "    }\n",
       "\n",
       "    .dataframe thead th {\n",
       "        text-align: right;\n",
       "    }\n",
       "</style>\n",
       "<table border=\"1\" class=\"dataframe\">\n",
       "  <thead>\n",
       "    <tr style=\"text-align: right;\">\n",
       "      <th></th>\n",
       "      <th>user_id</th>\n",
       "      <th>tariff</th>\n",
       "      <th>city</th>\n",
       "      <th>month</th>\n",
       "      <th>total_calls</th>\n",
       "      <th>calls_duration</th>\n",
       "      <th>total_messages</th>\n",
       "      <th>total_traffic</th>\n",
       "    </tr>\n",
       "  </thead>\n",
       "  <tbody>\n",
       "    <tr>\n",
       "      <td>0</td>\n",
       "      <td>1000</td>\n",
       "      <td>ultra</td>\n",
       "      <td>Краснодар</td>\n",
       "      <td>5</td>\n",
       "      <td>22.0</td>\n",
       "      <td>164.0</td>\n",
       "      <td>22.0</td>\n",
       "      <td>2253.49</td>\n",
       "    </tr>\n",
       "    <tr>\n",
       "      <td>1</td>\n",
       "      <td>1000</td>\n",
       "      <td>ultra</td>\n",
       "      <td>Краснодар</td>\n",
       "      <td>6</td>\n",
       "      <td>43.0</td>\n",
       "      <td>187.0</td>\n",
       "      <td>60.0</td>\n",
       "      <td>23233.77</td>\n",
       "    </tr>\n",
       "    <tr>\n",
       "      <td>2</td>\n",
       "      <td>1000</td>\n",
       "      <td>ultra</td>\n",
       "      <td>Краснодар</td>\n",
       "      <td>7</td>\n",
       "      <td>47.0</td>\n",
       "      <td>346.0</td>\n",
       "      <td>75.0</td>\n",
       "      <td>14003.64</td>\n",
       "    </tr>\n",
       "    <tr>\n",
       "      <td>3</td>\n",
       "      <td>1000</td>\n",
       "      <td>ultra</td>\n",
       "      <td>Краснодар</td>\n",
       "      <td>8</td>\n",
       "      <td>52.0</td>\n",
       "      <td>418.0</td>\n",
       "      <td>81.0</td>\n",
       "      <td>14055.93</td>\n",
       "    </tr>\n",
       "    <tr>\n",
       "      <td>4</td>\n",
       "      <td>1000</td>\n",
       "      <td>ultra</td>\n",
       "      <td>Краснодар</td>\n",
       "      <td>9</td>\n",
       "      <td>58.0</td>\n",
       "      <td>478.0</td>\n",
       "      <td>57.0</td>\n",
       "      <td>14568.91</td>\n",
       "    </tr>\n",
       "  </tbody>\n",
       "</table>\n",
       "</div>"
      ],
      "text/plain": [
       "   user_id tariff       city  month  total_calls  calls_duration  \\\n",
       "0     1000  ultra  Краснодар      5         22.0           164.0   \n",
       "1     1000  ultra  Краснодар      6         43.0           187.0   \n",
       "2     1000  ultra  Краснодар      7         47.0           346.0   \n",
       "3     1000  ultra  Краснодар      8         52.0           418.0   \n",
       "4     1000  ultra  Краснодар      9         58.0           478.0   \n",
       "\n",
       "   total_messages  total_traffic  \n",
       "0            22.0        2253.49  \n",
       "1            60.0       23233.77  \n",
       "2            75.0       14003.64  \n",
       "3            81.0       14055.93  \n",
       "4            57.0       14568.91  "
      ]
     },
     "execution_count": 32,
     "metadata": {},
     "output_type": "execute_result"
    }
   ],
   "source": [
    "total_data_by_monthes = None\n",
    "\n",
    "for table in data_by_monthes:\n",
    "    if total_data_by_monthes is not None:\n",
    "        total_data_by_monthes = pd.merge(total_data_by_monthes, data_by_monthes[table], on=['user_id', 'month'], how='outer')\n",
    "    else:\n",
    "        total_data_by_monthes = data_by_monthes[table]    \n",
    "\n",
    "total_data_by_monthes = pd.merge(data['users'][['user_id', 'tariff', 'city']], total_data_by_monthes, on='user_id')\n",
    "total_data_by_monthes.head()\n"
   ]
  },
  {
   "cell_type": "markdown",
   "metadata": {},
   "source": [
    "### Зная calls_duration,  total_messages, total_traffic и стоимость тарифа, высчитаем итоговый платеж за месяц"
   ]
  },
  {
   "cell_type": "code",
   "execution_count": 33,
   "metadata": {},
   "outputs": [
    {
     "data": {
      "text/html": [
       "<div>\n",
       "<style scoped>\n",
       "    .dataframe tbody tr th:only-of-type {\n",
       "        vertical-align: middle;\n",
       "    }\n",
       "\n",
       "    .dataframe tbody tr th {\n",
       "        vertical-align: top;\n",
       "    }\n",
       "\n",
       "    .dataframe thead th {\n",
       "        text-align: right;\n",
       "    }\n",
       "</style>\n",
       "<table border=\"1\" class=\"dataframe\">\n",
       "  <thead>\n",
       "    <tr style=\"text-align: right;\">\n",
       "      <th></th>\n",
       "      <th>user_id</th>\n",
       "      <th>tariff</th>\n",
       "      <th>city</th>\n",
       "      <th>month</th>\n",
       "      <th>total_calls</th>\n",
       "      <th>calls_duration</th>\n",
       "      <th>total_messages</th>\n",
       "      <th>total_traffic</th>\n",
       "      <th>total_price</th>\n",
       "    </tr>\n",
       "  </thead>\n",
       "  <tbody>\n",
       "    <tr>\n",
       "      <td>0</td>\n",
       "      <td>1000</td>\n",
       "      <td>ultra</td>\n",
       "      <td>Краснодар</td>\n",
       "      <td>5</td>\n",
       "      <td>22.0</td>\n",
       "      <td>164.0</td>\n",
       "      <td>22.0</td>\n",
       "      <td>2253.49</td>\n",
       "      <td>1950.0</td>\n",
       "    </tr>\n",
       "    <tr>\n",
       "      <td>1</td>\n",
       "      <td>1000</td>\n",
       "      <td>ultra</td>\n",
       "      <td>Краснодар</td>\n",
       "      <td>6</td>\n",
       "      <td>43.0</td>\n",
       "      <td>187.0</td>\n",
       "      <td>60.0</td>\n",
       "      <td>23233.77</td>\n",
       "      <td>1950.0</td>\n",
       "    </tr>\n",
       "    <tr>\n",
       "      <td>2</td>\n",
       "      <td>1000</td>\n",
       "      <td>ultra</td>\n",
       "      <td>Краснодар</td>\n",
       "      <td>7</td>\n",
       "      <td>47.0</td>\n",
       "      <td>346.0</td>\n",
       "      <td>75.0</td>\n",
       "      <td>14003.64</td>\n",
       "      <td>1950.0</td>\n",
       "    </tr>\n",
       "    <tr>\n",
       "      <td>3</td>\n",
       "      <td>1000</td>\n",
       "      <td>ultra</td>\n",
       "      <td>Краснодар</td>\n",
       "      <td>8</td>\n",
       "      <td>52.0</td>\n",
       "      <td>418.0</td>\n",
       "      <td>81.0</td>\n",
       "      <td>14055.93</td>\n",
       "      <td>1950.0</td>\n",
       "    </tr>\n",
       "    <tr>\n",
       "      <td>4</td>\n",
       "      <td>1000</td>\n",
       "      <td>ultra</td>\n",
       "      <td>Краснодар</td>\n",
       "      <td>9</td>\n",
       "      <td>58.0</td>\n",
       "      <td>478.0</td>\n",
       "      <td>57.0</td>\n",
       "      <td>14568.91</td>\n",
       "      <td>1950.0</td>\n",
       "    </tr>\n",
       "  </tbody>\n",
       "</table>\n",
       "</div>"
      ],
      "text/plain": [
       "   user_id tariff       city  month  total_calls  calls_duration  \\\n",
       "0     1000  ultra  Краснодар      5         22.0           164.0   \n",
       "1     1000  ultra  Краснодар      6         43.0           187.0   \n",
       "2     1000  ultra  Краснодар      7         47.0           346.0   \n",
       "3     1000  ultra  Краснодар      8         52.0           418.0   \n",
       "4     1000  ultra  Краснодар      9         58.0           478.0   \n",
       "\n",
       "   total_messages  total_traffic  total_price  \n",
       "0            22.0        2253.49       1950.0  \n",
       "1            60.0       23233.77       1950.0  \n",
       "2            75.0       14003.64       1950.0  \n",
       "3            81.0       14055.93       1950.0  \n",
       "4            57.0       14568.91       1950.0  "
      ]
     },
     "execution_count": 33,
     "metadata": {},
     "output_type": "execute_result"
    }
   ],
   "source": [
    "get_price = lambda coef, value: max(coef * value, 0)\n",
    "\n",
    "def get_total_price(row):\n",
    "    tariff = row['tariff']\n",
    "    current_tariff = data['tariffs'].loc[tariff]\n",
    "    calls_duration = row['calls_duration'] - current_tariff['minutes_included']\n",
    "    total_messages = row['total_messages'] - current_tariff['messages_included']\n",
    "    total_traffic  = np.ceil(row['total_traffic'] - current_tariff['mb_per_month_included'])\n",
    "    total_price    = current_tariff['rub_monthly_fee']\n",
    "    total_price    += get_price(current_tariff['rub_per_minute'], calls_duration)\n",
    "    total_price    += get_price(current_tariff['rub_per_message'], total_messages)\n",
    "    total_price    += get_price(current_tariff['rub_per_gb'] / 1024, total_traffic)\n",
    "    return total_price\n",
    "\n",
    "total_data_by_monthes['total_price'] = total_data_by_monthes.apply(get_total_price, axis=1)\n",
    "total_data_by_monthes.head()"
   ]
  },
  {
   "cell_type": "markdown",
   "metadata": {},
   "source": [
    "### Извлечем данные по тарифам из таблицы total_data_by_monthes"
   ]
  },
  {
   "cell_type": "code",
   "execution_count": 18,
   "metadata": {},
   "outputs": [],
   "source": [
    "smart_total_data = total_data_by_monthes.query('tariff == \"smart\"').dropna()\n",
    "ultra_total_data = total_data_by_monthes.query('tariff == \"ultra\"').dropna()"
   ]
  },
  {
   "cell_type": "markdown",
   "metadata": {},
   "source": [
    "### По каждой из метрик для каждого тарифа построим гистограммы"
   ]
  },
  {
   "cell_type": "code",
   "execution_count": 35,
   "metadata": {
    "scrolled": true
   },
   "outputs": [
    {
     "data": {
      "image/png": "[encoded data removed]",
      "text/plain": [
       "<Figure size 432x288 with 1 Axes>"
      ]
     },
     "metadata": {
      "needs_background": "light"
     },
     "output_type": "display_data"
    },
    {
     "data": {
      "image/png": "[encoded data removed]",
      "text/plain": [
       "<Figure size 432x288 with 1 Axes>"
      ]
     },
     "metadata": {
      "needs_background": "light"
     },
     "output_type": "display_data"
    },
    {
     "data": {
      "image/png": "[encoded data removed]",
      "text/plain": [
       "<Figure size 432x288 with 1 Axes>"
      ]
     },
     "metadata": {
      "needs_background": "light"
     },
     "output_type": "display_data"
    }
   ],
   "source": [
    "for metric in ['calls_duration', 'total_messages', 'total_traffic']:\n",
    "    plt.figure()\n",
    "    plt.title(metric)\n",
    "    smart_total_data[metric].hist(alpha=.5)\n",
    "    ultra_total_data[metric].hist(alpha=.4)\n",
    "    plt.legend(['smart', 'ultra'])"
   ]
  },
  {
   "cell_type": "markdown",
   "metadata": {},
   "source": [
    "#### Рассмотрим гистограммы:\n",
    "- calls_duration:\n",
    "    - ultra - пик достигается между 450 и 600 минутами, это значит что большинство рассходуют в месяц 600 и меньше минут из 3000\n",
    "    - smart - пик достигается между 420 и 600 минутами, а значит наиболее часто люди укладываются в предоставленные им 500 минут\n",
    "- total_messages - \n",
    "    - ultra - пик достигается между 0 и 20 сообщениями, а значит предоставленные 1000 сообщений никогда не расходуются\n",
    "    - smart - пик достигается между 0 и 30 сообщениями, а значит 50 включенных в тариф сообщений вполне хватает\n",
    "- total_traffic -\n",
    "    - utra - пик достигается в окрестности 20000, а значит 30720мб в месяц хороший выбор для данного тарифа, потому что также есть не мало людей между 20000 и 30000\n",
    "    - smart - пик достигается между 15000 и 20000, а тариф предоставляет 15360мб в месяц, возможно это число неплохо было бы увеличить\n",
    "    \n",
    "### Советы: \n",
    "- smart -  увеличить количество трафика до 20000мб\n",
    "- ultra -  уменьшить количество минут в 2 раза, уменьшить количество сообщений в 4 раза, потому что в наше время люди пользуются различными мэссэнджэрами вместо сообщений по телефону"
   ]
  },
  {
   "cell_type": "markdown",
   "metadata": {},
   "source": [
    "### Посчитаем по месяцам сколько люди, пользующиеся определенным тарифом, используют трафика и минут, шлют сообщений, платят"
   ]
  },
  {
   "cell_type": "code",
   "execution_count": 40,
   "metadata": {},
   "outputs": [],
   "source": [
    "mean_metrics_by_monthes = total_data_by_monthes.pivot_table(index=['tariff', 'month'], values=['total_price', 'total_traffic', 'total_messages', 'calls_duration'])"
   ]
  },
  {
   "cell_type": "code",
   "execution_count": 41,
   "metadata": {},
   "outputs": [],
   "source": [
    "smart_mean_data = mean_metrics_by_monthes.loc['smart']\n",
    "ultra_mean_data = mean_metrics_by_monthes.loc['ultra']"
   ]
  },
  {
   "cell_type": "markdown",
   "metadata": {},
   "source": [
    "### Сравним средние показатели метрик, перечисленных выше, для тарифов smart и ultra"
   ]
  },
  {
   "cell_type": "code",
   "execution_count": 42,
   "metadata": {},
   "outputs": [
    {
     "data": {
      "image/png": "[encoded data removed]",
      "text/plain": [
       "<Figure size 432x288 with 1 Axes>"
      ]
     },
     "metadata": {
      "needs_background": "light"
     },
     "output_type": "display_data"
    },
    {
     "data": {
      "image/png": "[encoded data removed]",
      "text/plain": [
       "<Figure size 432x288 with 1 Axes>"
      ]
     },
     "metadata": {
      "needs_background": "light"
     },
     "output_type": "display_data"
    },
    {
     "data": {
      "image/png": "[encoded data removed]",
      "text/plain": [
       "<Figure size 432x288 with 1 Axes>"
      ]
     },
     "metadata": {
      "needs_background": "light"
     },
     "output_type": "display_data"
    },
    {
     "data": {
      "image/png": "[encoded data removed]",
      "text/plain": [
       "<Figure size 432x288 with 1 Axes>"
      ]
     },
     "metadata": {
      "needs_background": "light"
     },
     "output_type": "display_data"
    }
   ],
   "source": [
    "for metric in smart_mean_data:\n",
    "    plt.figure()\n",
    "    plt.title(metric)\n",
    "    smart_mean_data[metric].plot(kind='bar')\n",
    "    ultra_mean_data[metric].plot(kind='bar', alpha=.5)\n",
    "    plt.legend(['smart', 'ultra'])\n",
    "    plt.show()"
   ]
  },
  {
   "cell_type": "markdown",
   "metadata": {},
   "source": [
    "#### Из графиков видно, что пользователи тарифа ultra в среднем делают на 25% больше звонков и сообщений, также рассходуют больше трафика. Средняя плата за месяц пользователей тарифа ultra больше примерно на 40%."
   ]
  },
  {
   "cell_type": "markdown",
   "metadata": {},
   "source": [
    "### Посчитаем стандартное отклонение для каждой из метрик"
   ]
  },
  {
   "cell_type": "code",
   "execution_count": 43,
   "metadata": {},
   "outputs": [],
   "source": [
    "metrics = ['calls_duration', 'total_messages', 'total_traffic', 'total_price']\n",
    "smart_std = smart_total_data[metrics].std()\n",
    "ultra_std = ultra_total_data[metrics].std()"
   ]
  },
  {
   "cell_type": "code",
   "execution_count": 85,
   "metadata": {},
   "outputs": [
    {
     "data": {
      "text/plain": [
       "calls_duration     315.635416\n",
       "total_messages      44.816850\n",
       "total_traffic     9381.255182\n",
       "total_price        273.569387\n",
       "dtype: float64"
      ]
     },
     "execution_count": 85,
     "metadata": {},
     "output_type": "execute_result"
    }
   ],
   "source": [
    "smart_std"
   ]
  },
  {
   "cell_type": "code",
   "execution_count": 86,
   "metadata": {},
   "outputs": [
    {
     "data": {
      "text/plain": [
       "calls_duration     189.829387\n",
       "total_messages      26.810513\n",
       "total_traffic     5769.340101\n",
       "total_price        787.702750\n",
       "dtype: float64"
      ]
     },
     "execution_count": 86,
     "metadata": {},
     "output_type": "execute_result"
    }
   ],
   "source": [
    "ultra_std"
   ]
  },
  {
   "cell_type": "markdown",
   "metadata": {},
   "source": [
    "### Сравним показатели стандартного отклонения:\n",
    "- calls_duration, total_traffic, total_price - для обоих тарифов стандартные отклонения велики, что свидетельствует о большом разбросе в данных показателях\n",
    "- total_messages - для обоих тарифов величина отклонения не велика, а значит разброс этого показателя не очень велик\n",
    "\n",
    "### Вывод:\n",
    "Оба тарифа имеют достаточно высокие показатели отклонений почти для всех метрик, что свидетельствует о разношерстности клиентов с точки зрения потребления мобильных услуг. Также можно заметить, что у smart тарифа почти каждая из метрик больше примерно в 2 раза чем у ultra."
   ]
  },
  {
   "cell_type": "markdown",
   "metadata": {},
   "source": [
    "### Посчитаем дисперсию для каждой из метрик"
   ]
  },
  {
   "cell_type": "code",
   "execution_count": 44,
   "metadata": {},
   "outputs": [
    {
     "data": {
      "text/plain": [
       "<matplotlib.legend.Legend at 0x7f06dfd46610>"
      ]
     },
     "execution_count": 44,
     "metadata": {},
     "output_type": "execute_result"
    },
    {
     "data": {
      "image/png": "[encoded data removed]",
      "text/plain": [
       "<Figure size 432x288 with 1 Axes>"
      ]
     },
     "metadata": {
      "needs_background": "light"
     },
     "output_type": "display_data"
    }
   ],
   "source": [
    "np.var(smart_total_data[metrics]).plot()\n",
    "np.var(ultra_total_data[metrics]).plot()\n",
    "plt.legend(['smart', 'ultra'])"
   ]
  },
  {
   "cell_type": "markdown",
   "metadata": {},
   "source": [
    "### Вывод: \n",
    "Как и ожидалось величина дисперсии велика для обоих тарифов, потому что стандартное отклонение велико. Этим результатам соответствуют такие же выводы, как и для высокого стандартного отклонения."
   ]
  },
  {
   "cell_type": "markdown",
   "metadata": {},
   "source": [
    "### Проверим гипотезу: средняя выручка пользователей тарифов «Ультра» и «Смарт» различается"
   ]
  },
  {
   "cell_type": "markdown",
   "metadata": {},
   "source": [
    "#### Построим график средней платы за месяцы для каждого из тарифов"
   ]
  },
  {
   "cell_type": "code",
   "execution_count": 45,
   "metadata": {},
   "outputs": [
    {
     "data": {
      "text/plain": [
       "<matplotlib.legend.Legend at 0x7f06df6fe110>"
      ]
     },
     "execution_count": 45,
     "metadata": {},
     "output_type": "execute_result"
    },
    {
     "data": {
      "image/png": "[encoded data removed]",
      "text/plain": [
       "<Figure size 432x288 with 1 Axes>"
      ]
     },
     "metadata": {
      "needs_background": "light"
     },
     "output_type": "display_data"
    }
   ],
   "source": [
    "smart_mean_data['total_price'].plot(kind='bar')\n",
    "ultra_mean_data['total_price'].plot(kind='bar', alpha=.7)\n",
    "plt.legend(['smart', 'ultra'])"
   ]
  },
  {
   "cell_type": "markdown",
   "metadata": {},
   "source": [
    "#### Посчитаем cреднюю выручку за все месяцы пользователей тарифов «Ультра» и «Смарт»"
   ]
  },
  {
   "cell_type": "code",
   "execution_count": 46,
   "metadata": {
    "scrolled": true
   },
   "outputs": [
    {
     "data": {
      "text/plain": [
       "(1129.1496545480666, 2007.7041970488435)"
      ]
     },
     "execution_count": 46,
     "metadata": {},
     "output_type": "execute_result"
    }
   ],
   "source": [
    "smart_mean_price = smart_mean_data['total_price'].mean()\n",
    "ultra_mean_price = ultra_mean_data['total_price'].mean()\n",
    "smart_mean_price, ultra_mean_price"
   ]
  },
  {
   "cell_type": "markdown",
   "metadata": {},
   "source": [
    "#### Проверим равны ли средние показатели total_price по тарифам smart и ultra"
   ]
  },
  {
   "cell_type": "code",
   "execution_count": 47,
   "metadata": {},
   "outputs": [
    {
     "name": "stdout",
     "output_type": "stream",
     "text": [
      "Средняя выручка по двум тарифам сильно отличается\n"
     ]
    }
   ],
   "source": [
    "alpha = .05\n",
    "\n",
    "tariffs_results = st.ttest_ind(smart_total_data['total_price'], ultra_total_data['total_price'])\n",
    "\n",
    "if tariffs_results.pvalue < alpha:\n",
    "    print('Средняя выручка по двум тарифам сильно отличается')\n",
    "else:\n",
    "    print('Средняя выручка близка')"
   ]
  },
  {
   "cell_type": "markdown",
   "metadata": {},
   "source": [
    "### Вывод:\n",
    "Из графика видно, что в каждом месяце средняя выручка пользователей тарифа ultra выше по сравнению с smart примерно на 40%, а в некоторые месяцы превышает 50%. Также средняя выручка тарифа ultra по всем месяцам в сумме примерно в 2 раза больше чем smart. Также метод t-критерия Стьюдента показал что среднии значения отличаются и из всего этого делаем вывод, что гипотеза верна."
   ]
  },
  {
   "cell_type": "markdown",
   "metadata": {},
   "source": [
    "### Проверим гипотезу: средняя выручка пользователей из Москвы отличается от выручки пользователей из других регионов"
   ]
  },
  {
   "cell_type": "markdown",
   "metadata": {},
   "source": [
    "#### Сохраним данные о ценах в Москве и других регионах"
   ]
  },
  {
   "cell_type": "code",
   "execution_count": 48,
   "metadata": {},
   "outputs": [],
   "source": [
    "moscow_prices = total_data_by_monthes.query('city == \"Москва\"')\n",
    "non_moscow_prices = total_data_by_monthes.query('city != \"Москва\"')"
   ]
  },
  {
   "cell_type": "markdown",
   "metadata": {},
   "source": [
    "#### Построим графики средней платы за месяцы для москвы и других регионов"
   ]
  },
  {
   "cell_type": "code",
   "execution_count": 49,
   "metadata": {},
   "outputs": [
    {
     "data": {
      "image/png": "[encoded data removed]",
      "text/plain": [
       "<Figure size 432x288 with 1 Axes>"
      ]
     },
     "metadata": {
      "needs_background": "light"
     },
     "output_type": "display_data"
    },
    {
     "data": {
      "image/png": "[encoded data removed]",
      "text/plain": [
       "<Figure size 432x288 with 1 Axes>"
      ]
     },
     "metadata": {
      "needs_background": "light"
     },
     "output_type": "display_data"
    }
   ],
   "source": [
    "moscow_mean_prices = moscow_prices.pivot_table(index=['tariff', 'month'], values='total_price')\n",
    "non_moscow_mean_prices = non_moscow_prices.pivot_table(index=['tariff', 'month'], values='total_price')\n",
    "\n",
    "for tariff in ['smart', 'ultra']:\n",
    "    plt.figure()\n",
    "    plt.title(tariff)\n",
    "    moscow_mean_prices.loc[tariff]['total_price'].plot(kind='bar', alpha=.6)\n",
    "    non_moscow_mean_prices.loc[tariff]['total_price'].plot(kind='bar', alpha=.5)\n",
    "    plt.legend(['moscow', 'others'])"
   ]
  },
  {
   "cell_type": "markdown",
   "metadata": {},
   "source": [
    "#### Посчитаем cреднюю выручку за все месяцы пользователей тарифов «Ультра» и «Смарт» в Москве и других регионах"
   ]
  },
  {
   "cell_type": "code",
   "execution_count": 50,
   "metadata": {},
   "outputs": [],
   "source": [
    "moscow_smart_mean = moscow_mean_prices.loc['smart']['total_price'].mean()\n",
    "non_moscow_smart_mean = non_moscow_mean_prices.loc['smart']['total_price'].mean()\n",
    "moscow_ultra_mean = moscow_mean_prices.loc['ultra']['total_price'].mean()\n",
    "non_moscow_ultra_mean = non_moscow_mean_prices.loc['ultra']['total_price'].mean()"
   ]
  },
  {
   "cell_type": "code",
   "execution_count": 51,
   "metadata": {},
   "outputs": [
    {
     "data": {
      "text/plain": [
       "(1057.7935552582665, 1144.2133863934685)"
      ]
     },
     "execution_count": 51,
     "metadata": {},
     "output_type": "execute_result"
    }
   ],
   "source": [
    "moscow_smart_mean, non_moscow_smart_mean"
   ]
  },
  {
   "cell_type": "code",
   "execution_count": 52,
   "metadata": {},
   "outputs": [
    {
     "data": {
      "text/plain": [
       "(2042.145507457415, 1995.391683763167)"
      ]
     },
     "execution_count": 52,
     "metadata": {},
     "output_type": "execute_result"
    }
   ],
   "source": [
    "moscow_ultra_mean, non_moscow_ultra_mean"
   ]
  },
  {
   "cell_type": "markdown",
   "metadata": {},
   "source": [
    "#### Проверим равны ли средние показатели total_price по тарифам smart и ultra в Москве и других регионах"
   ]
  },
  {
   "cell_type": "code",
   "execution_count": 53,
   "metadata": {
    "scrolled": true
   },
   "outputs": [
    {
     "name": "stdout",
     "output_type": "stream",
     "text": [
      "Тариф smart приносит одинаково денег как в Москве, так и в других регионах\n",
      "Тариф ultra приносит одинаково денег как в Москве, так и в других регионах\n"
     ]
    }
   ],
   "source": [
    "smart_moscow_prices = moscow_prices.query('tariff == \"smart\"')['total_price']\n",
    "ultra_moscow_prices = moscow_prices.query('tariff == \"ultra\"')['total_price']\n",
    "smart_non_moscow_prices = non_moscow_prices.query('tariff == \"smart\"')['total_price']\n",
    "ultra_non_moscow_prices = non_moscow_prices.query('tariff == \"ultra\"')['total_price']\n",
    "\n",
    "\n",
    "smart_results = st.ttest_ind(smart_moscow_prices, smart_non_moscow_prices)\n",
    "ultra_results = st.ttest_ind(ultra_moscow_prices, ultra_non_moscow_prices)\n",
    "\n",
    "if smart_results.pvalue < .05:\n",
    "    print('Выручка для тарифа smart отличается в Москве и других регионах')\n",
    "else:\n",
    "    print('Тариф smart приносит одинаково денег как в Москве, так и в других регионах')\n",
    "\n",
    "if ultra_results.pvalue < .05:\n",
    "    print('Выручка для тарифа ultra отличается в Москве и других регионах')\n",
    "else:\n",
    "    print('Тариф ultra приносит одинаково денег как в Москве, так и в других регионах')"
   ]
  },
  {
   "cell_type": "markdown",
   "metadata": {},
   "source": [
    "#### Вывод:\n",
    "Исходя из t-критерия Стьюдента можно сказать что тарифы smart и ultra приносят одинаково денег как в Москве, так и в других регионах."
   ]
  },
  {
   "cell_type": "markdown",
   "metadata": {},
   "source": [
    "### Общий вывод:\n",
    "Cделав предварительный анализ тарифов на небольшой выборке клиентов, выяснили что пользователи тарифа ultra в среднем делают на 25% больше звонков и сообщений, также рассходуют больше трафика по сравнению с пользователями тарифа smart. Средняя плата за месяц пользователей тарифа ultra больше примерно на 40%. Оба тарифа имеют достаточно высокие показатели отклонений почти для всех метрик, что свидетельствует о разношерстности клиентов с точки зрения потребления мобильных услуг. Cредняя выручка тарифа ultra по всем месяцам в сумме примерно в 2 раза больше чем smart. Я бы мог предложить увеличить количество трафика до 20000мб для тарифа smart, а также уменьшить количество минут в 2 раза, уменьшить количество сообщений в 4 раза для тарифа ultra, потому что исходя из данных большинство людей просто их не рассходуют. Выяснили что средняя выручка по Москве практически не отличается от других городов, поэтому не стоит рассматривать этот город в \"отрыве\" от других.\n"
   ]
  }
 ],
 "metadata": {
  "kernelspec": {
   "display_name": "Python 3",
   "language": "python",
   "name": "python3"
  },
  "language_info": {
   "codemirror_mode": {
    "name": "ipython",
    "version": 3
   },
   "file_extension": ".py",
   "mimetype": "text/x-python",
   "name": "python",
   "nbconvert_exporter": "python",
   "pygments_lexer": "ipython3",
   "version": "3.6.8"
  }
 },
 "nbformat": 4,
 "nbformat_minor": 2
}
